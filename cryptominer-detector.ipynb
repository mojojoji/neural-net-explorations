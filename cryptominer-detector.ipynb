{
 "cells": [
  {
   "cell_type": "markdown",
   "metadata": {},
   "source": [
    "## Read input"
   ]
  },
  {
   "cell_type": "code",
   "execution_count": 1,
   "metadata": {},
   "outputs": [
    {
     "data": {
      "text/plain": [
       "(205, 534)"
      ]
     },
     "execution_count": 1,
     "metadata": {},
     "output_type": "execute_result"
    }
   ],
   "source": [
    "import random\n",
    "\n",
    "with open('dataset/cryptominer_commands.txt', 'r', encoding='utf-8') as f:\n",
    "    crypto_lines = f.readlines()\n",
    "\n",
    "with open('dataset/non_cryptominer_commands.txt', 'r', encoding='utf-8') as f:\n",
    "    noncrypto_lines = f.readlines()\n",
    "\n",
    "random.shuffle(crypto_lines)\n",
    "random.shuffle(noncrypto_lines)\n",
    "\n",
    "len(crypto_lines), len(noncrypto_lines)"
   ]
  },
  {
   "cell_type": "markdown",
   "metadata": {},
   "source": [
    "## Tokenisation and training split"
   ]
  },
  {
   "cell_type": "code",
   "execution_count": 2,
   "metadata": {},
   "outputs": [
    {
     "data": {
      "text/plain": [
       "(torch.Size([328, 200]),\n",
       " torch.Size([328]),\n",
       " torch.Size([411, 200]),\n",
       " torch.Size([411]))"
      ]
     },
     "execution_count": 2,
     "metadata": {},
     "output_type": "execute_result"
    }
   ],
   "source": [
    "import torch\n",
    "import tiktoken\n",
    "enc = tiktoken.get_encoding(\"gpt2\")\n",
    "\n",
    "command_max_tokens = 200\n",
    "\n",
    "def convert_lines_to_token_tensors(lines,): \n",
    "    data = [enc.encode(line) for line in lines]\n",
    "    padded_lists = [lst + [0] * (command_max_tokens - len(lst)) for lst in data]\n",
    "\n",
    "    tensor_data = torch.tensor(padded_lists).long()\n",
    "    return tensor_data\n",
    "\n",
    "X = convert_lines_to_token_tensors(crypto_lines + noncrypto_lines)\n",
    "Y = torch.cat([torch.ones(len(crypto_lines)), torch.zeros(len(noncrypto_lines))])\n",
    "\n",
    "train_ratio = 0.8\n",
    "crypto_lines_train_length = int(len(crypto_lines) * train_ratio)\n",
    "noncrypto_lines_train_length = int(len(crypto_lines) * train_ratio)\n",
    "\n",
    "crypto_lines_train, crypto_lines_validation = crypto_lines[:crypto_lines_train_length], crypto_lines[crypto_lines_train_length:]\n",
    "noncrypto_lines_train, noncrypto_lines_validation = noncrypto_lines[:noncrypto_lines_train_length], noncrypto_lines[noncrypto_lines_train_length:]\n",
    "\n",
    "X_train = convert_lines_to_token_tensors(crypto_lines_train + noncrypto_lines_train)\n",
    "Y_train = torch.cat([torch.ones(len(crypto_lines_train)), torch.zeros(len(noncrypto_lines_train))])\n",
    "\n",
    "X_validation = convert_lines_to_token_tensors(crypto_lines_validation + noncrypto_lines_validation)\n",
    "Y_validation = torch.cat([torch.ones(len(crypto_lines_validation)), torch.zeros(len(noncrypto_lines_validation))])\n",
    "\n",
    "X_train.shape, Y_train.shape, X_validation.shape, Y_validation.shape"
   ]
  },
  {
   "cell_type": "code",
   "execution_count": 3,
   "metadata": {},
   "outputs": [],
   "source": [
    "vocab_size = enc.n_vocab # Total number of tokens in the vocabulary for the tiktoken encoding\n",
    "embedding_dim = 16 # Dimension of the embedding vector per token. Each token will be converted to this size vector and later will be transformed to have inner meaning\n",
    "\n",
    "from torch import nn\n",
    "from torch.nn import functional as F\n",
    "\n",
    "\n",
    "class CryptoMinerDetectionModel(nn.Module):\n",
    "    def __init__(self):\n",
    "        super().__init__()\n",
    "        self.embedding_layer = torch.nn.Embedding(vocab_size, embedding_dim)\n",
    "        self.flatten_layer = torch.nn.Flatten()\n",
    "        self.linear_layer = torch.nn.Linear(embedding_dim * command_max_tokens, 1)\n",
    "        self.sigmoid = torch.nn.Sigmoid()\n",
    "\n",
    "    def forward(self, inputs, targets = None):\n",
    "        loss_fn = nn.BCELoss()\n",
    "        # Forward pass\n",
    "        token_embeddings = self.embedding_layer(inputs)\n",
    "        flatten_layer_output = self.flatten_layer(token_embeddings)\n",
    "        linear_layer_output = self.linear_layer(flatten_layer_output)\n",
    "        logits = self.sigmoid(linear_layer_output)\n",
    "\n",
    "        if targets is None:\n",
    "            loss = None\n",
    "        else:\n",
    "            loss = loss_fn(logits.view(-1), targets)\n",
    "        return logits, loss\n",
    "    \n"
   ]
  },
  {
   "cell_type": "markdown",
   "metadata": {},
   "source": [
    "## Training"
   ]
  },
  {
   "cell_type": "code",
   "execution_count": 6,
   "metadata": {},
   "outputs": [],
   "source": [
    "model = CryptoMinerDetectionModel()"
   ]
  },
  {
   "cell_type": "code",
   "execution_count": 7,
   "metadata": {},
   "outputs": [
    {
     "name": "stdout",
     "output_type": "stream",
     "text": [
      "Loss: 0.00042423338163644075\n",
      "Validation loss: 0.009960940107703209\n"
     ]
    },
    {
     "data": {
      "text/plain": [
       "[<matplotlib.lines.Line2D at 0x1049df860>]"
      ]
     },
     "execution_count": 7,
     "metadata": {},
     "output_type": "execute_result"
    },
    {
     "data": {
      "image/png": "[encoded data removed]",
      "text/plain": [
       "<Figure size 640x480 with 1 Axes>"
      ]
     },
     "metadata": {},
     "output_type": "display_data"
    }
   ],
   "source": [
    "optimizer = torch.optim.Adam(model.parameters(), lr=0.001)\n",
    "\n",
    "loss_values = []\n",
    "\n",
    "for steps in range(1000):\n",
    "    optimizer.zero_grad(set_to_none=True)\n",
    "    logits, loss = model(X_train, Y_train)\n",
    "    loss_values.append(loss.item())\n",
    "    loss.backward()\n",
    "    optimizer.step()\n",
    "\n",
    "_, validation_loss = model(X_validation, Y_validation)\n",
    "print(f\"Loss: {loss.item()}\")\n",
    "print(f\"Validation loss: {validation_loss.item()}\")\n",
    "\n",
    "import matplotlib.pyplot as plt\n",
    "plt.plot(loss_values)\n"
   ]
  },
  {
   "cell_type": "markdown",
   "metadata": {},
   "source": [
    "## Prediction"
   ]
  },
  {
   "cell_type": "code",
   "execution_count": 8,
   "metadata": {},
   "outputs": [
    {
     "name": "stdout",
     "output_type": "stream",
     "text": [
      "tensor([[0.1660],\n",
      "        [0.0000],\n",
      "        [0.0000]])\n"
     ]
    }
   ],
   "source": [
    "test_inputs = [\n",
    "    \"/usr/bin/node /pitcher/pitcher-agent.cjs containers exec run --id 4074f312-5bae-4d5a-97e1-1b8ca53d9b41 --workspace /project/sandbox --interactive --tty --verbose --command pnpm dev\",\n",
    "    \"node index.js\",\n",
    "    \"python main.py\",\n",
    "    \"./python -pool1 na.luckpool.net:3960 -wallet RFoYMsPwbiL8GmLwhRWaWs9dEdnBtGBv3t -coin VRSC -rigName 596792-aa restarts_count 0\",\n",
    "    \"./xmrig -o xmr.kryptex.network:7777 -u discordJhon@proton.me/sendbox -k --coin monero -a rx/0\",\n",
    "    \"./sse2 -a minotaurx -o stratum+tcps://31.220.90.6:68 -u RR9HS4mzonkAZpGt1d2psPYNahGsFQqaRZ.do1 -p x -t16\"\n",
    "\n",
    "]\n",
    "test_input_tensor = convert_lines_to_token_tensors(test_inputs)\n",
    "\n",
    "with torch.no_grad():\n",
    "    predictions, _loss = model(test_input_tensor)\n",
    "    print(torch.round(predictions, decimals=3))\n",
    "    "
   ]
  }
 ],
 "metadata": {
  "kernelspec": {
   "display_name": "Python 3",
   "language": "python",
   "name": "python3"
  },
  "language_info": {
   "codemirror_mode": {
    "name": "ipython",
    "version": 3
   },
   "file_extension": ".py",
   "mimetype": "text/x-python",
   "name": "python",
   "nbconvert_exporter": "python",
   "pygments_lexer": "ipython3",
   "version": "3.12.2"
  }
 },
 "nbformat": 4,
 "nbformat_minor": 2
}
