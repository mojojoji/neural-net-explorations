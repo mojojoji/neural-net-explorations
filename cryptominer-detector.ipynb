{
 "cells": [
  {
   "cell_type": "markdown",
   "metadata": {},
   "source": [
    "## Read input\n",
    "Here we read the dataset from 2 files.\n",
    "- `dataset/cryptominer_commands.txt` - which contains a list of process names which are identified as cryptominers.\n",
    "- `dataset/non_cryptominer_commands.txt` - which contains a list of process name which are identified as non cryptominers.\n",
    "\n",
    "We shuffle the lines before using the data to prevent clustering of similar process names"
   ]
  },
  {
   "cell_type": "code",
   "execution_count": 40,
   "metadata": {},
   "outputs": [
    {
     "data": {
      "text/plain": [
       "(205, 534)"
      ]
     },
     "execution_count": 40,
     "metadata": {},
     "output_type": "execute_result"
    }
   ],
   "source": [
    "import random\n",
    "\n",
    "with open('dataset/cryptominer_commands.txt', 'r', encoding='utf-8') as f:\n",
    "    crypto_lines = f.readlines()\n",
    "\n",
    "with open('dataset/non_cryptominer_commands.txt', 'r', encoding='utf-8') as f:\n",
    "    noncrypto_lines = f.readlines()\n",
    "\n",
    "random.shuffle(crypto_lines)\n",
    "random.shuffle(noncrypto_lines)\n",
    "\n",
    "len(crypto_lines), len(noncrypto_lines)"
   ]
  },
  {
   "cell_type": "markdown",
   "metadata": {},
   "source": [
    "## Tokenisation and training split\n",
    "\n",
    "Here we split the cypto and non crypto process names in 80:20 ratio. 80% is used for training, and the rest 20% for validation the model.\n",
    "\n",
    "### Tokenisation\n",
    "Each line (process) in dataset is tokenised with `tiktoken` and to make the token length of all dataset lines same we pad with 0 and make all 200 tokens length.\n",
    "\n",
    "This tokenised list is converted to a tensor for each line in dataset and the 2d tensor forms the inputs for our model for training and validation"
   ]
  },
  {
   "cell_type": "code",
   "execution_count": 41,
   "metadata": {},
   "outputs": [
    {
     "data": {
      "text/plain": [
       "(torch.Size([328, 200]),\n",
       " torch.Size([328]),\n",
       " torch.Size([411, 200]),\n",
       " torch.Size([411]))"
      ]
     },
     "execution_count": 41,
     "metadata": {},
     "output_type": "execute_result"
    }
   ],
   "source": [
    "import torch\n",
    "import tiktoken\n",
    "enc = tiktoken.get_encoding(\"gpt2\")\n",
    "\n",
    "command_max_tokens = 200\n",
    "\n",
    "def convert_lines_to_token_tensors(lines,): \n",
    "    data = [enc.encode(line) for line in lines]\n",
    "    padded_lists = [lst + [0] * (command_max_tokens - len(lst)) for lst in data]\n",
    "\n",
    "    tensor_data = torch.tensor(padded_lists).long()\n",
    "    return tensor_data\n",
    "\n",
    "train_ratio = 0.8\n",
    "crypto_lines_train_length = int(len(crypto_lines) * train_ratio)\n",
    "noncrypto_lines_train_length = int(len(crypto_lines) * train_ratio)\n",
    "\n",
    "crypto_lines_train, crypto_lines_validation = crypto_lines[:crypto_lines_train_length], crypto_lines[crypto_lines_train_length:]\n",
    "noncrypto_lines_train, noncrypto_lines_validation = noncrypto_lines[:noncrypto_lines_train_length], noncrypto_lines[noncrypto_lines_train_length:]\n",
    "\n",
    "X_train = convert_lines_to_token_tensors(crypto_lines_train + noncrypto_lines_train)\n",
    "Y_train = torch.cat([torch.ones(len(crypto_lines_train)), torch.zeros(len(noncrypto_lines_train))])\n",
    "\n",
    "X_validation = convert_lines_to_token_tensors(crypto_lines_validation + noncrypto_lines_validation)\n",
    "Y_validation = torch.cat([torch.ones(len(crypto_lines_validation)), torch.zeros(len(noncrypto_lines_validation))])\n",
    "\n",
    "X_train.shape, Y_train.shape, X_validation.shape, Y_validation.shape"
   ]
  },
  {
   "cell_type": "markdown",
   "metadata": {},
   "source": [
    "## Neural network model\n",
    "Here we define the neural network model as a PyTorch module. This model has 4 layers\n",
    "- Embedding layer: Converts tokens to embeddings of 16 dimensions\n",
    "- Flatten layer: This flattens the embedding layer output to remove the embedding dimension\n",
    "- Linear layer: Condenses all activations of previous layer to 1 neuron\n",
    "- Sigmoid Layer: Squishes the last neuron output to be in 0 to 1 range. This is probability of the input being a crypto miner process\n",
    "\n",
    "We also define the forward pass for the neural net in this module and the forward pass returns the output logits of the neural net for given inputs and also the loss for the outputs if a target is passed. The loss is calculated using Binary Cross Entropy as the expected output is a probabilty of binary classification\n",
    "\n",
    "The same forward pass can also be used for prediction by leaving the targets None."
   ]
  },
  {
   "cell_type": "code",
   "execution_count": 28,
   "metadata": {},
   "outputs": [],
   "source": [
    "vocab_size = enc.n_vocab # Total number of tokens in the vocabulary for the tiktoken encoding\n",
    "embedding_dim = 16 # Dimension of the embedding vector per token. Each token will be converted to this size vector and later will be transformed to have inner meaning\n",
    "\n",
    "from torch import nn\n",
    "from torch.nn import functional as F\n",
    "\n",
    "\n",
    "class CryptoMinerDetectionModel(nn.Module):\n",
    "    def __init__(self):\n",
    "        super().__init__()\n",
    "        self.embedding_layer = torch.nn.Embedding(vocab_size, embedding_dim)\n",
    "        self.flatten_layer = torch.nn.Flatten()\n",
    "        self.linear_layer = torch.nn.Linear(embedding_dim * command_max_tokens, 1)\n",
    "        self.sigmoid = torch.nn.Sigmoid()\n",
    "\n",
    "    def forward(self, inputs, targets = None):\n",
    "        loss_fn = nn.BCELoss()\n",
    "        # Forward pass\n",
    "        token_embeddings = self.embedding_layer(inputs)\n",
    "        flatten_layer_output = self.flatten_layer(token_embeddings)\n",
    "        linear_layer_output = self.linear_layer(flatten_layer_output)\n",
    "        logits = self.sigmoid(linear_layer_output)\n",
    "\n",
    "        if targets is None:\n",
    "            loss = None\n",
    "        else:\n",
    "            loss = loss_fn(logits.view(-1), targets)\n",
    "        return logits, loss\n",
    "    \n"
   ]
  },
  {
   "cell_type": "markdown",
   "metadata": {},
   "source": [
    "## Training\n",
    "This part instansiates a new model and uses Adam optimizer to train the model and optimise the weights of the model to give the least loss across our training dataset. We then use the trained model to calculate the validation loss to ensure that the model performs well outside the training dataset.\n",
    "\n",
    "The graph below shows the decrease in loss with every iteration"
   ]
  },
  {
   "cell_type": "code",
   "execution_count": 42,
   "metadata": {},
   "outputs": [
    {
     "name": "stdout",
     "output_type": "stream",
     "text": [
      "Loss: 0.0003353389911353588\n",
      "Validation loss: 0.020357800647616386\n"
     ]
    },
    {
     "data": {
      "text/plain": [
       "[<matplotlib.lines.Line2D at 0x16e0ec140>]"
      ]
     },
     "execution_count": 42,
     "metadata": {},
     "output_type": "execute_result"
    },
    {
     "data": {
      "image/png": "[encoded data removed]",
      "text/plain": [
       "<Figure size 640x480 with 1 Axes>"
      ]
     },
     "metadata": {},
     "output_type": "display_data"
    }
   ],
   "source": [
    "model = CryptoMinerDetectionModel()\n",
    "optimizer = torch.optim.Adam(model.parameters(), lr=0.001)\n",
    "\n",
    "loss_values = []\n",
    "\n",
    "epochs = 1000\n",
    "for steps in range(epochs):\n",
    "    optimizer.zero_grad(set_to_none=True)\n",
    "    logits, loss = model(X_train, Y_train)\n",
    "    loss_values.append(loss.item())\n",
    "    loss.backward()\n",
    "    optimizer.step()\n",
    "\n",
    "with torch.no_grad():\n",
    "    _, validation_loss = model(X_validation, Y_validation)\n",
    "    print(f\"Loss: {loss.item()}\")\n",
    "    print(f\"Validation loss: {validation_loss.item()}\")\n",
    "\n",
    "import matplotlib.pyplot as plt\n",
    "plt.plot(loss_values)\n"
   ]
  },
  {
   "cell_type": "markdown",
   "metadata": {},
   "source": [
    "## Prediction\n",
    "Here we pass some inputs to the model that was trained above (after tokenising) and we get the output probabilities of each input being a crypto  miner."
   ]
  },
  {
   "cell_type": "code",
   "execution_count": 44,
   "metadata": {},
   "outputs": [
    {
     "name": "stdout",
     "output_type": "stream",
     "text": [
      "tensor([[0.1830],\n",
      "        [0.0000],\n",
      "        [0.0000],\n",
      "        [0.9920],\n",
      "        [0.9720],\n",
      "        [0.9590]])\n"
     ]
    }
   ],
   "source": [
    "test_inputs = [\n",
    "    \"/usr/bin/node /pitcher/pitcher-agent.cjs containers exec run --id 4074f312-5bae-4d5a-97e1-1b8ca53d9b41 --workspace /project/sandbox --interactive --tty --verbose --command pnpm dev\",\n",
    "    \"node index.js\",\n",
    "    \"python main.py\",\n",
    "    \"./python -pool1 na.luckpool.net:3960 -wallet RFoYMsPwbiL8GmLwhRWaWs9dEdnBtGBv3t -coin VRSC -rigName 596792-aa restarts_count 0\",\n",
    "    \"./xmrig -o xmr.kryptex.network:7777 -u discordJhon@proton.me/sendbox -k --coin monero -a rx/0\",\n",
    "    \"./sse2 -a minotaurx -o stratum+tcps://31.220.90.6:68 -u RR9HS4mzonkAZpGt1d2psPYNahGsFQqaRZ.do1 -p x -t16\"\n",
    "\n",
    "]\n",
    "test_input_tensor = convert_lines_to_token_tensors(test_inputs)\n",
    "\n",
    "with torch.no_grad():\n",
    "    predictions, _loss = model(test_input_tensor)\n",
    "    print(torch.round(predictions, decimals=3))\n",
    "    "
   ]
  },
  {
   "cell_type": "markdown",
   "metadata": {},
   "source": [
    "## Save model as file"
   ]
  },
  {
   "cell_type": "code",
   "execution_count": 45,
   "metadata": {},
   "outputs": [],
   "source": [
    "torch.save(model, \"trained_models/cryptominer_detection_model.pt\")"
   ]
  },
  {
   "cell_type": "code",
   "execution_count": 52,
   "metadata": {},
   "outputs": [
    {
     "name": "stdout",
     "output_type": "stream",
     "text": [
      "Model params size: 807313\n"
     ]
    }
   ],
   "source": [
    "print(f\"Model params size: {sum(p.numel() for p in model.parameters() if p.requires_grad)}\")"
   ]
  }
 ],
 "metadata": {
  "kernelspec": {
   "display_name": "Python 3",
   "language": "python",
   "name": "python3"
  },
  "language_info": {
   "codemirror_mode": {
    "name": "ipython",
    "version": 3
   },
   "file_extension": ".py",
   "mimetype": "text/x-python",
   "name": "python",
   "nbconvert_exporter": "python",
   "pygments_lexer": "ipython3",
   "version": "3.12.2"
  }
 },
 "nbformat": 4,
 "nbformat_minor": 2
}
